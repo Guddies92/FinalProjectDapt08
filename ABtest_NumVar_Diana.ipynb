{
 "cells": [
  {
   "cell_type": "code",
   "execution_count": 2,
   "metadata": {},
   "outputs": [],
   "source": [
    "import pandas as pd\n",
    "import numpy as np\n",
    "import seaborn as sns\n",
    "sns.set_style(\"darkgrid\")\n",
    "import matplotlib.pyplot as plt\n",
    "import warnings\n",
    "import scipy.stats as stats\n",
    "from statsmodels.stats.proportion import proportions_ztest, proportion_confint\n",
    "from scipy.stats import shapiro"
   ]
  },
  {
   "cell_type": "markdown",
   "metadata": {},
   "source": [
    "### **Loading the Data**"
   ]
  },
  {
   "cell_type": "code",
   "execution_count": 3,
   "metadata": {},
   "outputs": [],
   "source": [
    "ab_df = pd.read_csv(\"/Users/dianisg/Desktop/codeop/GroupProject/ab_testing.csv\")"
   ]
  },
  {
   "cell_type": "markdown",
   "metadata": {},
   "source": [
    "# **EDA**"
   ]
  },
  {
   "cell_type": "code",
   "execution_count": 4,
   "metadata": {},
   "outputs": [
    {
     "data": {
      "text/html": [
       "<div>\n",
       "<style scoped>\n",
       "    .dataframe tbody tr th:only-of-type {\n",
       "        vertical-align: middle;\n",
       "    }\n",
       "\n",
       "    .dataframe tbody tr th {\n",
       "        vertical-align: top;\n",
       "    }\n",
       "\n",
       "    .dataframe thead th {\n",
       "        text-align: right;\n",
       "    }\n",
       "</style>\n",
       "<table border=\"1\" class=\"dataframe\">\n",
       "  <thead>\n",
       "    <tr style=\"text-align: right;\">\n",
       "      <th></th>\n",
       "      <th>User ID</th>\n",
       "      <th>Group</th>\n",
       "      <th>Page Views</th>\n",
       "      <th>Time Spent</th>\n",
       "      <th>Conversion</th>\n",
       "      <th>Device</th>\n",
       "      <th>Location</th>\n",
       "    </tr>\n",
       "  </thead>\n",
       "  <tbody>\n",
       "    <tr>\n",
       "      <th>0</th>\n",
       "      <td>14292</td>\n",
       "      <td>B</td>\n",
       "      <td>3</td>\n",
       "      <td>424</td>\n",
       "      <td>No</td>\n",
       "      <td>Mobile</td>\n",
       "      <td>Northern Ireland</td>\n",
       "    </tr>\n",
       "    <tr>\n",
       "      <th>1</th>\n",
       "      <td>11682</td>\n",
       "      <td>A</td>\n",
       "      <td>9</td>\n",
       "      <td>342</td>\n",
       "      <td>No</td>\n",
       "      <td>Mobile</td>\n",
       "      <td>Scotland</td>\n",
       "    </tr>\n",
       "    <tr>\n",
       "      <th>2</th>\n",
       "      <td>19825</td>\n",
       "      <td>A</td>\n",
       "      <td>2</td>\n",
       "      <td>396</td>\n",
       "      <td>No</td>\n",
       "      <td>Desktop</td>\n",
       "      <td>Northern Ireland</td>\n",
       "    </tr>\n",
       "    <tr>\n",
       "      <th>3</th>\n",
       "      <td>16080</td>\n",
       "      <td>B</td>\n",
       "      <td>4</td>\n",
       "      <td>318</td>\n",
       "      <td>No</td>\n",
       "      <td>Desktop</td>\n",
       "      <td>Wales</td>\n",
       "    </tr>\n",
       "    <tr>\n",
       "      <th>4</th>\n",
       "      <td>18851</td>\n",
       "      <td>A</td>\n",
       "      <td>1</td>\n",
       "      <td>338</td>\n",
       "      <td>Yes</td>\n",
       "      <td>Desktop</td>\n",
       "      <td>Scotland</td>\n",
       "    </tr>\n",
       "  </tbody>\n",
       "</table>\n",
       "</div>"
      ],
      "text/plain": [
       "   User ID Group  Page Views  Time Spent Conversion   Device          Location\n",
       "0    14292     B           3         424         No   Mobile  Northern Ireland\n",
       "1    11682     A           9         342         No   Mobile          Scotland\n",
       "2    19825     A           2         396         No  Desktop  Northern Ireland\n",
       "3    16080     B           4         318         No  Desktop             Wales\n",
       "4    18851     A           1         338        Yes  Desktop          Scotland"
      ]
     },
     "execution_count": 4,
     "metadata": {},
     "output_type": "execute_result"
    }
   ],
   "source": [
    "ab_df.head()"
   ]
  },
  {
   "cell_type": "markdown",
   "metadata": {},
   "source": [
    "### **Control/experiment groups split**"
   ]
  },
  {
   "cell_type": "code",
   "execution_count": 5,
   "metadata": {},
   "outputs": [],
   "source": [
    "control_df = ab_df[ab_df['Group'] == 'A'].copy().reset_index(drop=True)"
   ]
  },
  {
   "cell_type": "code",
   "execution_count": 6,
   "metadata": {},
   "outputs": [],
   "source": [
    "experiment_df = ab_df[ab_df['Group'] == 'B'].copy().reset_index(drop=True)"
   ]
  },
  {
   "cell_type": "markdown",
   "metadata": {},
   "source": [
    "### **Checkin for nulls/Duplicates/Unique Values**"
   ]
  },
  {
   "cell_type": "code",
   "execution_count": 58,
   "metadata": {},
   "outputs": [
    {
     "data": {
      "text/html": [
       "<div>\n",
       "<style scoped>\n",
       "    .dataframe tbody tr th:only-of-type {\n",
       "        vertical-align: middle;\n",
       "    }\n",
       "\n",
       "    .dataframe tbody tr th {\n",
       "        vertical-align: top;\n",
       "    }\n",
       "\n",
       "    .dataframe thead th {\n",
       "        text-align: right;\n",
       "    }\n",
       "</style>\n",
       "<table border=\"1\" class=\"dataframe\">\n",
       "  <thead>\n",
       "    <tr style=\"text-align: right;\">\n",
       "      <th></th>\n",
       "      <th>User ID</th>\n",
       "      <th>Group</th>\n",
       "      <th>Page Views</th>\n",
       "      <th>Time Spent</th>\n",
       "      <th>Conversion</th>\n",
       "      <th>Device</th>\n",
       "      <th>Location</th>\n",
       "    </tr>\n",
       "  </thead>\n",
       "  <tbody>\n",
       "    <tr>\n",
       "      <th>0</th>\n",
       "      <td>11682</td>\n",
       "      <td>A</td>\n",
       "      <td>9</td>\n",
       "      <td>342</td>\n",
       "      <td>No</td>\n",
       "      <td>Mobile</td>\n",
       "      <td>Scotland</td>\n",
       "    </tr>\n",
       "    <tr>\n",
       "      <th>1</th>\n",
       "      <td>19825</td>\n",
       "      <td>A</td>\n",
       "      <td>2</td>\n",
       "      <td>396</td>\n",
       "      <td>No</td>\n",
       "      <td>Desktop</td>\n",
       "      <td>Northern Ireland</td>\n",
       "    </tr>\n",
       "    <tr>\n",
       "      <th>2</th>\n",
       "      <td>18851</td>\n",
       "      <td>A</td>\n",
       "      <td>1</td>\n",
       "      <td>338</td>\n",
       "      <td>Yes</td>\n",
       "      <td>Desktop</td>\n",
       "      <td>Scotland</td>\n",
       "    </tr>\n",
       "    <tr>\n",
       "      <th>3</th>\n",
       "      <td>16702</td>\n",
       "      <td>A</td>\n",
       "      <td>5</td>\n",
       "      <td>106</td>\n",
       "      <td>No</td>\n",
       "      <td>Mobile</td>\n",
       "      <td>Northern Ireland</td>\n",
       "    </tr>\n",
       "    <tr>\n",
       "      <th>4</th>\n",
       "      <td>12776</td>\n",
       "      <td>A</td>\n",
       "      <td>14</td>\n",
       "      <td>351</td>\n",
       "      <td>No</td>\n",
       "      <td>Desktop</td>\n",
       "      <td>Wales</td>\n",
       "    </tr>\n",
       "  </tbody>\n",
       "</table>\n",
       "</div>"
      ],
      "text/plain": [
       "   User ID Group  Page Views  Time Spent Conversion   Device          Location\n",
       "0    11682     A           9         342         No   Mobile          Scotland\n",
       "1    19825     A           2         396         No  Desktop  Northern Ireland\n",
       "2    18851     A           1         338        Yes  Desktop          Scotland\n",
       "3    16702     A           5         106         No   Mobile  Northern Ireland\n",
       "4    12776     A          14         351         No  Desktop             Wales"
      ]
     },
     "execution_count": 58,
     "metadata": {},
     "output_type": "execute_result"
    }
   ],
   "source": [
    "control_df.head()"
   ]
  },
  {
   "cell_type": "code",
   "execution_count": 59,
   "metadata": {},
   "outputs": [
    {
     "data": {
      "text/html": [
       "<div>\n",
       "<style scoped>\n",
       "    .dataframe tbody tr th:only-of-type {\n",
       "        vertical-align: middle;\n",
       "    }\n",
       "\n",
       "    .dataframe tbody tr th {\n",
       "        vertical-align: top;\n",
       "    }\n",
       "\n",
       "    .dataframe thead th {\n",
       "        text-align: right;\n",
       "    }\n",
       "</style>\n",
       "<table border=\"1\" class=\"dataframe\">\n",
       "  <thead>\n",
       "    <tr style=\"text-align: right;\">\n",
       "      <th></th>\n",
       "      <th>User ID</th>\n",
       "      <th>Group</th>\n",
       "      <th>Page Views</th>\n",
       "      <th>Time Spent</th>\n",
       "      <th>Conversion</th>\n",
       "      <th>Device</th>\n",
       "      <th>Location</th>\n",
       "    </tr>\n",
       "  </thead>\n",
       "  <tbody>\n",
       "    <tr>\n",
       "      <th>0</th>\n",
       "      <td>14292</td>\n",
       "      <td>B</td>\n",
       "      <td>3</td>\n",
       "      <td>424</td>\n",
       "      <td>No</td>\n",
       "      <td>Mobile</td>\n",
       "      <td>Northern Ireland</td>\n",
       "    </tr>\n",
       "    <tr>\n",
       "      <th>1</th>\n",
       "      <td>16080</td>\n",
       "      <td>B</td>\n",
       "      <td>4</td>\n",
       "      <td>318</td>\n",
       "      <td>No</td>\n",
       "      <td>Desktop</td>\n",
       "      <td>Wales</td>\n",
       "    </tr>\n",
       "    <tr>\n",
       "      <th>2</th>\n",
       "      <td>13134</td>\n",
       "      <td>B</td>\n",
       "      <td>2</td>\n",
       "      <td>93</td>\n",
       "      <td>No</td>\n",
       "      <td>Desktop</td>\n",
       "      <td>Scotland</td>\n",
       "    </tr>\n",
       "    <tr>\n",
       "      <th>3</th>\n",
       "      <td>10041</td>\n",
       "      <td>B</td>\n",
       "      <td>9</td>\n",
       "      <td>292</td>\n",
       "      <td>No</td>\n",
       "      <td>Mobile</td>\n",
       "      <td>Northern Ireland</td>\n",
       "    </tr>\n",
       "    <tr>\n",
       "      <th>4</th>\n",
       "      <td>13191</td>\n",
       "      <td>B</td>\n",
       "      <td>8</td>\n",
       "      <td>434</td>\n",
       "      <td>No</td>\n",
       "      <td>Desktop</td>\n",
       "      <td>Northern Ireland</td>\n",
       "    </tr>\n",
       "  </tbody>\n",
       "</table>\n",
       "</div>"
      ],
      "text/plain": [
       "   User ID Group  Page Views  Time Spent Conversion   Device          Location\n",
       "0    14292     B           3         424         No   Mobile  Northern Ireland\n",
       "1    16080     B           4         318         No  Desktop             Wales\n",
       "2    13134     B           2          93         No  Desktop          Scotland\n",
       "3    10041     B           9         292         No   Mobile  Northern Ireland\n",
       "4    13191     B           8         434         No  Desktop  Northern Ireland"
      ]
     },
     "execution_count": 59,
     "metadata": {},
     "output_type": "execute_result"
    }
   ],
   "source": [
    "experiment_df.head()"
   ]
  },
  {
   "cell_type": "code",
   "execution_count": 60,
   "metadata": {},
   "outputs": [
    {
     "data": {
      "text/plain": [
       "(2519, 7)"
      ]
     },
     "execution_count": 60,
     "metadata": {},
     "output_type": "execute_result"
    }
   ],
   "source": [
    "control_df.shape"
   ]
  },
  {
   "cell_type": "code",
   "execution_count": 61,
   "metadata": {},
   "outputs": [
    {
     "data": {
      "text/plain": [
       "(2481, 7)"
      ]
     },
     "execution_count": 61,
     "metadata": {},
     "output_type": "execute_result"
    }
   ],
   "source": [
    "experiment_df.shape"
   ]
  },
  {
   "cell_type": "code",
   "execution_count": 62,
   "metadata": {},
   "outputs": [
    {
     "data": {
      "text/plain": [
       "array(['No', 'Yes'], dtype=object)"
      ]
     },
     "execution_count": 62,
     "metadata": {},
     "output_type": "execute_result"
    }
   ],
   "source": [
    "ab_df.Conversion.unique()"
   ]
  },
  {
   "cell_type": "code",
   "execution_count": 64,
   "metadata": {},
   "outputs": [
    {
     "name": "stdout",
     "output_type": "stream",
     "text": [
      "<class 'pandas.core.frame.DataFrame'>\n",
      "RangeIndex: 2519 entries, 0 to 2518\n",
      "Data columns (total 7 columns):\n",
      " #   Column      Non-Null Count  Dtype \n",
      "---  ------      --------------  ----- \n",
      " 0   User ID     2519 non-null   int64 \n",
      " 1   Group       2519 non-null   object\n",
      " 2   Page Views  2519 non-null   int64 \n",
      " 3   Time Spent  2519 non-null   int64 \n",
      " 4   Conversion  2519 non-null   object\n",
      " 5   Device      2519 non-null   object\n",
      " 6   Location    2519 non-null   object\n",
      "dtypes: int64(3), object(4)\n",
      "memory usage: 137.9+ KB\n"
     ]
    }
   ],
   "source": [
    "control_df.info()"
   ]
  },
  {
   "cell_type": "code",
   "execution_count": 65,
   "metadata": {},
   "outputs": [
    {
     "name": "stdout",
     "output_type": "stream",
     "text": [
      "<class 'pandas.core.frame.DataFrame'>\n",
      "RangeIndex: 2481 entries, 0 to 2480\n",
      "Data columns (total 7 columns):\n",
      " #   Column      Non-Null Count  Dtype \n",
      "---  ------      --------------  ----- \n",
      " 0   User ID     2481 non-null   int64 \n",
      " 1   Group       2481 non-null   object\n",
      " 2   Page Views  2481 non-null   int64 \n",
      " 3   Time Spent  2481 non-null   int64 \n",
      " 4   Conversion  2481 non-null   object\n",
      " 5   Device      2481 non-null   object\n",
      " 6   Location    2481 non-null   object\n",
      "dtypes: int64(3), object(4)\n",
      "memory usage: 135.8+ KB\n"
     ]
    }
   ],
   "source": [
    "experiment_df.info()"
   ]
  },
  {
   "cell_type": "code",
   "execution_count": 66,
   "metadata": {},
   "outputs": [
    {
     "data": {
      "text/plain": [
       "np.False_"
      ]
     },
     "execution_count": 66,
     "metadata": {},
     "output_type": "execute_result"
    }
   ],
   "source": [
    "ab_df['User ID'].duplicated().any()"
   ]
  },
  {
   "cell_type": "code",
   "execution_count": 67,
   "metadata": {},
   "outputs": [
    {
     "data": {
      "text/plain": [
       "User ID       0\n",
       "Group         0\n",
       "Page Views    0\n",
       "Time Spent    0\n",
       "Conversion    0\n",
       "Device        0\n",
       "Location      0\n",
       "dtype: int64"
      ]
     },
     "execution_count": 67,
     "metadata": {},
     "output_type": "execute_result"
    }
   ],
   "source": [
    "ab_df.isnull().sum()\n"
   ]
  },
  {
   "cell_type": "code",
   "execution_count": 68,
   "metadata": {},
   "outputs": [
    {
     "data": {
      "text/html": [
       "<div>\n",
       "<style scoped>\n",
       "    .dataframe tbody tr th:only-of-type {\n",
       "        vertical-align: middle;\n",
       "    }\n",
       "\n",
       "    .dataframe tbody tr th {\n",
       "        vertical-align: top;\n",
       "    }\n",
       "\n",
       "    .dataframe thead th {\n",
       "        text-align: right;\n",
       "    }\n",
       "</style>\n",
       "<table border=\"1\" class=\"dataframe\">\n",
       "  <thead>\n",
       "    <tr style=\"text-align: right;\">\n",
       "      <th></th>\n",
       "      <th>User ID</th>\n",
       "      <th>Page Views</th>\n",
       "      <th>Time Spent</th>\n",
       "    </tr>\n",
       "  </thead>\n",
       "  <tbody>\n",
       "    <tr>\n",
       "      <th>count</th>\n",
       "      <td>5000.000000</td>\n",
       "      <td>5000.000000</td>\n",
       "      <td>5000.000000</td>\n",
       "    </tr>\n",
       "    <tr>\n",
       "      <th>mean</th>\n",
       "      <td>14925.159000</td>\n",
       "      <td>7.537600</td>\n",
       "      <td>242.512600</td>\n",
       "    </tr>\n",
       "    <tr>\n",
       "      <th>std</th>\n",
       "      <td>2869.153773</td>\n",
       "      <td>4.022465</td>\n",
       "      <td>118.254153</td>\n",
       "    </tr>\n",
       "    <tr>\n",
       "      <th>min</th>\n",
       "      <td>10001.000000</td>\n",
       "      <td>1.000000</td>\n",
       "      <td>40.000000</td>\n",
       "    </tr>\n",
       "    <tr>\n",
       "      <th>25%</th>\n",
       "      <td>12456.250000</td>\n",
       "      <td>4.000000</td>\n",
       "      <td>137.000000</td>\n",
       "    </tr>\n",
       "    <tr>\n",
       "      <th>50%</th>\n",
       "      <td>14858.500000</td>\n",
       "      <td>8.000000</td>\n",
       "      <td>243.000000</td>\n",
       "    </tr>\n",
       "    <tr>\n",
       "      <th>75%</th>\n",
       "      <td>17379.750000</td>\n",
       "      <td>11.000000</td>\n",
       "      <td>346.000000</td>\n",
       "    </tr>\n",
       "    <tr>\n",
       "      <th>max</th>\n",
       "      <td>19995.000000</td>\n",
       "      <td>14.000000</td>\n",
       "      <td>449.000000</td>\n",
       "    </tr>\n",
       "  </tbody>\n",
       "</table>\n",
       "</div>"
      ],
      "text/plain": [
       "            User ID   Page Views   Time Spent\n",
       "count   5000.000000  5000.000000  5000.000000\n",
       "mean   14925.159000     7.537600   242.512600\n",
       "std     2869.153773     4.022465   118.254153\n",
       "min    10001.000000     1.000000    40.000000\n",
       "25%    12456.250000     4.000000   137.000000\n",
       "50%    14858.500000     8.000000   243.000000\n",
       "75%    17379.750000    11.000000   346.000000\n",
       "max    19995.000000    14.000000   449.000000"
      ]
     },
     "execution_count": 68,
     "metadata": {},
     "output_type": "execute_result"
    }
   ],
   "source": [
    "ab_df.describe()\n"
   ]
  },
  {
   "cell_type": "markdown",
   "metadata": {},
   "source": [
    "# **Visual Distributions**"
   ]
  },
  {
   "cell_type": "markdown",
   "metadata": {},
   "source": [
    "### **Plotted distributions of numerical variables**"
   ]
  },
  {
   "cell_type": "code",
   "execution_count": null,
   "metadata": {},
   "outputs": [
    {
     "data": {
      "image/png": "[encoded data removed]",
      "text/plain": [
       "<Figure size 800x500 with 1 Axes>"
      ]
     },
     "metadata": {},
     "output_type": "display_data"
    },
    {
     "data": {
      "image/png": "[encoded data removed]",
      "text/plain": [
       "<Figure size 800x500 with 1 Axes>"
      ]
     },
     "metadata": {},
     "output_type": "display_data"
    }
   ],
   "source": [
    "for col in ['Page Views', 'Time Spent']:\n",
    "    plt.figure(figsize=(8, 5))\n",
    "    \n",
    "    sns.histplot(control_df[col], \n",
    "                 kde=True, \n",
    "                 stat=\"count\",       \n",
    "                 label='Control (Group A)', \n",
    "                 color='skyblue', \n",
    "                 alpha=0.6)\n",
    "    \n",
    "    sns.histplot(experiment_df[col], \n",
    "                 kde=True, \n",
    "                 stat=\"count\", \n",
    "                 label='Experiment (Group B)', \n",
    "                 color='mediumorchid', \n",
    "                 alpha=0.6)\n",
    "    \n",
    "    plt.title(f'Distribution of {col}', fontsize=14)\n",
    "    plt.xlabel(col, fontsize=12)\n",
    "    plt.ylabel('Users', fontsize=12)  \n",
    "    plt.legend()\n",
    "    plt.tight_layout()\n",
    "    plt.show()\n"
   ]
  },
  {
   "cell_type": "markdown",
   "metadata": {},
   "source": [
    "### **Plotted distribution of categorical variables**"
   ]
  },
  {
   "cell_type": "code",
   "execution_count": 10,
   "metadata": {},
   "outputs": [
    {
     "name": "stdout",
     "output_type": "stream",
     "text": [
      "  Group  Percentage\n",
      "0     B   71.958763\n",
      "1     A   28.041237\n"
     ]
    }
   ],
   "source": [
    "converted_df = ab_df[ab_df['Conversion'] == 'Yes']\n",
    "\n",
    "conversion_percent = (\n",
    "    converted_df['Group'].value_counts(normalize=True) * 100\n",
    ").reset_index()\n",
    "conversion_percent.columns = ['Group', 'Percentage']\n",
    "print(conversion_percent)"
   ]
  },
  {
   "cell_type": "code",
   "execution_count": null,
   "metadata": {},
   "outputs": [
    {
     "name": "stderr",
     "output_type": "stream",
     "text": [
      "/var/folders/g6/pd_cdn856jbf49pxtf_r988r0000gn/T/ipykernel_6023/3555549324.py:15: FutureWarning: \n",
      "\n",
      "Passing `palette` without assigning `hue` is deprecated and will be removed in v0.14.0. Assign the `x` variable to `hue` and set `legend=False` for the same effect.\n",
      "\n",
      "  sns.barplot(data=conversion_percent, x='Group', y='Percentage', palette=group_colors)\n"
     ]
    },
    {
     "data": {
      "image/png": "[encoded data removed]",
      "text/plain": [
       "<Figure size 600x500 with 1 Axes>"
      ]
     },
     "metadata": {},
     "output_type": "display_data"
    }
   ],
   "source": [
    "converted_df = ab_df[ab_df['Conversion'] == 'Yes']\n",
    "\n",
    "conversion_percent = (\n",
    "    converted_df['Group'].value_counts(normalize=True) * 100\n",
    ").reset_index()\n",
    "conversion_percent.columns = ['Group', 'Percentage']\n",
    "\n",
    "group_colors = {'A': 'skyblue', 'B': 'mediumorchid'}\n",
    "\n",
    "plt.figure(figsize=(6, 5))\n",
    "sns.barplot(data=conversion_percent, x='Group', y='Percentage', palette=group_colors)\n",
    "\n",
    "plt.title(\"Percentage of Converted Users by Group\", fontsize=14)\n",
    "plt.xlabel(\"Group\", fontsize=12)\n",
    "plt.ylabel(\"Converted Users (%)\", fontsize=12)\n",
    "plt.ylim(0, 100)\n",
    "plt.tight_layout()\n",
    "plt.show()\n"
   ]
  },
  {
   "cell_type": "markdown",
   "metadata": {},
   "source": [
    "# **A/B Testing**\n",
    "\n",
    "### **Formulating Hypotheses**\n",
    "\n",
    "**- Null Hypothesis (H₀):** There is no difference in user engagement between the white and black background versions of the website.\n",
    "\n",
    "**- Alternative Hypothesis (H₁):** There is a significant difference in user engagement between the two background versions.\n",
    "\n",
    "### **Identifying Variables**\n",
    "\n",
    "**-Independent Variable:** Group (A or B) – the version of the website background.\n",
    "\n",
    "**-Dependent Variables:** Page Views, Time Spent, ¿Conversion? – metrics to assess user engagement"
   ]
  },
  {
   "cell_type": "markdown",
   "metadata": {},
   "source": [
    " # **Basic Statistics:**\n",
    "\n",
    " calculating: mean, standard deviation and standard error (SE) for each group"
   ]
  },
  {
   "cell_type": "code",
   "execution_count": null,
   "metadata": {},
   "outputs": [
    {
     "name": "stdout",
     "output_type": "stream",
     "text": [
      "\n",
      " Stats for: Page Views\n",
      "Control Group:\n",
      "  Mean            = 7.58\n",
      "  Std Deviation   = 4.08\n",
      "  Standard Error  = 0.0813\n",
      "Experiment Group:\n",
      "  Mean            = 7.49\n",
      "  Std Deviation   = 3.96\n",
      "  Standard Error  = 0.0796\n",
      "\n",
      " Stats for: Time Spent\n",
      "Control Group:\n",
      "  Mean            = 241.73\n",
      "  Std Deviation   = 117.34\n",
      "  Standard Error  = 2.3379\n",
      "Experiment Group:\n",
      "  Mean            = 243.30\n",
      "  Std Deviation   = 119.19\n",
      "  Standard Error  = 2.3930\n"
     ]
    }
   ],
   "source": [
    "for col in ['Page Views', 'Time Spent']:\n",
    "    print(f\"\\n Stats for: {col}\")\n",
    "    \n",
    "    for group_name, group_df in [('Control', control_df), ('Experiment', experiment_df)]:\n",
    "        mean = np.mean(group_df[col])\n",
    "        \n",
    "        std = np.std(group_df[col], ddof=1)\n",
    "        \n",
    "        n = len(group_df[col])\n",
    "        \n",
    "        se = std / np.sqrt(n)\n",
    "        \n",
    "        print(f\"{group_name} Group:\")\n",
    "        print(f\"  Mean            = {mean:.2f}\")\n",
    "        print(f\"  Std Deviation   = {std:.2f}\")\n",
    "        print(f\"  Standard Error  = {se:.4f}\")\n"
   ]
  },
  {
   "cell_type": "code",
   "execution_count": null,
   "metadata": {},
   "outputs": [
    {
     "name": "stdout",
     "output_type": "stream",
     "text": [
      "\n",
      "95% Confidence Intervals for Page Views\n",
      "Control Group: 7.58 ± 0.16 → CI = [7.42, 7.74]\n",
      "Experiment Group: 7.49 ± 0.16 → CI = [7.34, 7.65]\n",
      "\n",
      "95% Confidence Intervals for Time Spent\n",
      "Control Group: 241.73 ± 4.58 → CI = [237.15, 246.32]\n",
      "Experiment Group: 243.30 ± 4.69 → CI = [238.61, 247.99]\n"
     ]
    }
   ],
   "source": [
    "z = 1.96  \n",
    "\n",
    "for col in ['Page Views', 'Time Spent']:\n",
    "    print(f\"\\n95% Confidence Intervals for {col}\")\n",
    "    \n",
    "    for group_name, group_df in [('Control', control_df), ('Experiment', experiment_df)]:\n",
    "        mean = np.mean(group_df[col])\n",
    "        std = np.std(group_df[col], ddof=1)\n",
    "        n = len(group_df[col])\n",
    "        se = std / np.sqrt(n)\n",
    "        \n",
    "        margin = z * se\n",
    "        lower = mean - margin\n",
    "        upper = mean + margin\n",
    "        \n",
    "        print(f\"{group_name} Group: {mean:.2f} ± {margin:.2f} → CI = [{lower:.2f}, {upper:.2f}]\")\n"
   ]
  },
  {
   "cell_type": "markdown",
   "metadata": {},
   "source": [
    "# **Conclusions from this:**\n",
    "\n",
    "- The mean differences are very small, Any effect is likely not practically significant\n",
    "- The confidence intervals overlap substantially, There’s no strong evidence the groups are different\n",
    "- Both groups have similar standard errors, The estimates are precise, not just noisy\n",
    "\n",
    "Based on descriptive stats and confidence intervals, we do not have evidence that the experiment (Group B) significantly changed user behavior in terms of page views or time spent. These are strong clues, but they’re not formal hypothesis tests we still need to run the statistical test to determine whether we can reject or not the null hypothesis. "
   ]
  },
  {
   "cell_type": "code",
   "execution_count": null,
   "metadata": {},
   "outputs": [
    {
     "name": "stdout",
     "output_type": "stream",
     "text": [
      "\n",
      "T-Test for Page Views:\n",
      "  t-statistic = 0.7792\n",
      "  p-value     = 0.4359\n",
      "\n",
      "T-Test for Time Spent:\n",
      "  t-statistic = -0.4695\n",
      "  p-value     = 0.6387\n"
     ]
    }
   ],
   "source": [
    "from scipy.stats import ttest_ind\n",
    "\n",
    "for col in ['Page Views', 'Time Spent']:\n",
    "    stat, p = ttest_ind(control_df[col], experiment_df[col], equal_var=False)  \n",
    "    print(f\"\\nT-Test for {col}:\")\n",
    "    print(f\"  t-statistic = {stat:.4f}\")\n",
    "    print(f\"  p-value     = {p:.4f}\")\n"
   ]
  },
  {
   "cell_type": "markdown",
   "metadata": {},
   "source": [
    "# **Conclusions from this:**\n",
    "\n",
    "- Both p-values are much higher than 0.05, so:\n",
    "\n",
    "We fail to reject the null hypothesis\n",
    "⇒ There's no statistically significant difference in page views or time spent between the control and experiment groups."
   ]
  }
 ],
 "metadata": {
  "kernelspec": {
   "display_name": "base",
   "language": "python",
   "name": "python3"
  },
  "language_info": {
   "codemirror_mode": {
    "name": "ipython",
    "version": 3
   },
   "file_extension": ".py",
   "mimetype": "text/x-python",
   "name": "python",
   "nbconvert_exporter": "python",
   "pygments_lexer": "ipython3",
   "version": "3.12.2"
  }
 },
 "nbformat": 4,
 "nbformat_minor": 2
}
